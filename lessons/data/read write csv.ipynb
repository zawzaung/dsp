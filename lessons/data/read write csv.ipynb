{
 "cells": [
  {
   "cell_type": "code",
   "execution_count": 259,
   "metadata": {},
   "outputs": [],
   "source": [
    "# read csv file into a list of lists\n",
    "import csv\n",
    "def read_data(filename):\n",
    "    footballTable = list()\n",
    "    reader = csv.reader(open(filename))\n",
    "    next(reader)\n",
    "    for row in reader:\n",
    "        footballTable.append(row)\n",
    "        \n",
    "    diff_list = []\n",
    "    for item in footballTable:\n",
    "        diff_list.append(abs(int(item[5])-int(item[6])))\n",
    "   \n",
    "    index_value = diff_list.index(min(diff_list)) # find index with minimum diff\n",
    "    \n",
    "    for item in footballTable:\n",
    "        get_name = footballTable[index_value][0] # get team name with minium diff\n",
    "        \n",
    "    return get_name\n",
    "    "
   ]
  },
  {
   "cell_type": "code",
   "execution_count": 260,
   "metadata": {},
   "outputs": [
    {
     "data": {
      "text/plain": [
       "'Aston_Villa'"
      ]
     },
     "execution_count": 260,
     "metadata": {},
     "output_type": "execute_result"
    }
   ],
   "source": [
    "read_data(\"football.csv\")"
   ]
  },
  {
   "cell_type": "code",
   "execution_count": 354,
   "metadata": {},
   "outputs": [],
   "source": [
    "def degrees(filename):\n",
    "    import csv\n",
    "    file = open(filename)\n",
    "    csv_f = csv.reader(file)\n",
    "    \n",
    "    # Creating a list to store all the degrees from the csv file\n",
    "    degree_list = []\n",
    "    \n",
    "    # Creating an empty dictionary for counting the frequency\n",
    "    degree_count = {}\n",
    "    \n",
    "    next(csv_f) #skip the first row\n",
    "    \n",
    "    for row in csv_f:\n",
    "        #removing white space\n",
    "        degree_list.append()\n",
    "        \n",
    "    \n",
    "    print(degree_list)\n",
    "    \n",
    "    return degree_list"
   ]
  },
  {
   "cell_type": "code",
   "execution_count": 355,
   "metadata": {},
   "outputs": [
    {
     "name": "stdout",
     "output_type": "stream",
     "text": [
      "[0, 0, 0, 0, 0, 0, 0, 0, 0, 0, 0, 0, 0, 0, 0, 0, 0, 0, 0, 0, 0, 0, 0, 0, 0, 0, 0, 0, 0, 0, 0, 0, 0, 0, 0, 0, 0]\n"
     ]
    },
    {
     "data": {
      "text/plain": [
       "[0,\n",
       " 0,\n",
       " 0,\n",
       " 0,\n",
       " 0,\n",
       " 0,\n",
       " 0,\n",
       " 0,\n",
       " 0,\n",
       " 0,\n",
       " 0,\n",
       " 0,\n",
       " 0,\n",
       " 0,\n",
       " 0,\n",
       " 0,\n",
       " 0,\n",
       " 0,\n",
       " 0,\n",
       " 0,\n",
       " 0,\n",
       " 0,\n",
       " 0,\n",
       " 0,\n",
       " 0,\n",
       " 0,\n",
       " 0,\n",
       " 0,\n",
       " 0,\n",
       " 0,\n",
       " 0,\n",
       " 0,\n",
       " 0,\n",
       " 0,\n",
       " 0,\n",
       " 0,\n",
       " 0]"
      ]
     },
     "execution_count": 355,
     "metadata": {},
     "output_type": "execute_result"
    }
   ],
   "source": [
    "degrees(\"faculty.csv\")"
   ]
  },
  {
   "cell_type": "raw",
   "metadata": {},
   "source": [
    "degrees(\"faculty.csv\")"
   ]
  },
  {
   "cell_type": "code",
   "execution_count": 344,
   "metadata": {},
   "outputs": [],
   "source": [
    "import csv\n",
    "\n",
    "def count_degrees(filename):\n",
    "    file = open(filename)\n",
    "    csv_f = csv.reader(file)\n",
    "    \n",
    "    # Creating a list to store all the degrees from the csv file\n",
    "    degree_list = []\n",
    "    \n",
    "    # Creating an empty dictionary for counting the frequency\n",
    "    degree_count = {}\n",
    "    \n",
    "    next(csv_f) #skip the first row\n",
    "    \n",
    "    for row in csv_f:\n",
    "        #removing white spaces\n",
    "        \n",
    "        clean_1= row[1].strip() \n",
    "        degree_list.append(clean_1)\n",
    "    \n",
    "    #removing period to standarize the degree notation\n",
    "    degree_list = [x.replace('.','') for x in degree_list] \n",
    "    new_degree_list = [degree for degrees in degree_list for degree in degrees.split()]\n",
    "    \n",
    "    #count degree frequency\n",
    "    for degree in new_degree_list:\n",
    "        degree_count[degree] = degree_count.get(degree,0)+1\n",
    "    \n",
    "    return degree_count"
   ]
  },
  {
   "cell_type": "code",
   "execution_count": 345,
   "metadata": {},
   "outputs": [
    {
     "ename": "TypeError",
     "evalue": "append() takes exactly one argument (0 given)",
     "output_type": "error",
     "traceback": [
      "\u001b[0;31m---------------------------------------------------------------------------\u001b[0m",
      "\u001b[0;31mTypeError\u001b[0m                                 Traceback (most recent call last)",
      "\u001b[0;32m<ipython-input-345-8290b6ad9366>\u001b[0m in \u001b[0;36m<module>\u001b[0;34m\u001b[0m\n\u001b[0;32m----> 1\u001b[0;31m \u001b[0mcount_degrees\u001b[0m\u001b[0;34m(\u001b[0m\u001b[0;34m\"faculty.csv\"\u001b[0m\u001b[0;34m)\u001b[0m\u001b[0;34m\u001b[0m\u001b[0;34m\u001b[0m\u001b[0m\n\u001b[0m",
      "\u001b[0;32m<ipython-input-344-3bec2921ed98>\u001b[0m in \u001b[0;36mcount_degrees\u001b[0;34m(filename)\u001b[0m\n\u001b[1;32m     15\u001b[0m     \u001b[0;32mfor\u001b[0m \u001b[0mrow\u001b[0m \u001b[0;32min\u001b[0m \u001b[0mcsv_f\u001b[0m\u001b[0;34m:\u001b[0m\u001b[0;34m\u001b[0m\u001b[0;34m\u001b[0m\u001b[0m\n\u001b[1;32m     16\u001b[0m         \u001b[0;31m#removing white spaces\u001b[0m\u001b[0;34m\u001b[0m\u001b[0;34m\u001b[0m\u001b[0;34m\u001b[0m\u001b[0m\n\u001b[0;32m---> 17\u001b[0;31m         \u001b[0mfile_list\u001b[0m\u001b[0;34m.\u001b[0m\u001b[0mappend\u001b[0m\u001b[0;34m(\u001b[0m\u001b[0;34m)\u001b[0m\u001b[0;34m\u001b[0m\u001b[0;34m\u001b[0m\u001b[0m\n\u001b[0m\u001b[1;32m     18\u001b[0m         \u001b[0mclean_1\u001b[0m\u001b[0;34m=\u001b[0m \u001b[0mrow\u001b[0m\u001b[0;34m[\u001b[0m\u001b[0;36m1\u001b[0m\u001b[0;34m]\u001b[0m\u001b[0;34m.\u001b[0m\u001b[0mstrip\u001b[0m\u001b[0;34m(\u001b[0m\u001b[0;34m)\u001b[0m\u001b[0;34m\u001b[0m\u001b[0;34m\u001b[0m\u001b[0m\n\u001b[1;32m     19\u001b[0m         \u001b[0mdegree_list\u001b[0m\u001b[0;34m.\u001b[0m\u001b[0mappend\u001b[0m\u001b[0;34m(\u001b[0m\u001b[0mclean_1\u001b[0m\u001b[0;34m)\u001b[0m\u001b[0;34m\u001b[0m\u001b[0;34m\u001b[0m\u001b[0m\n",
      "\u001b[0;31mTypeError\u001b[0m: append() takes exactly one argument (0 given)"
     ]
    }
   ],
   "source": [
    "count_degrees(\"faculty.csv\")"
   ]
  },
  {
   "cell_type": "code",
   "execution_count": 283,
   "metadata": {},
   "outputs": [],
   "source": [
    "#get title count\n",
    "import csv\n",
    "\n",
    "def count_titles(csv_file_name):\n",
    "    file = open(csv_file_name)\n",
    "    csv_f = csv.reader(file)\n",
    "    \n",
    "    # Creating a list to store all the titles from the csv file\n",
    "    title_list = []\n",
    "    # Creating an empty dictionary for counting the frequency\n",
    "    title_count = {}\n",
    "    \n",
    "    next(csv_f) #skip the first row\n",
    "    \n",
    "    for row in csv_f:\n",
    "        title_list.append(row[2])\n",
    "        \n",
    "    #take only the first word of strings in the list\n",
    "    new_title_list = [title.split()[0] for title in title_list]\n",
    "    \n",
    "    #count title frequency\n",
    "    for title in new_title_list:\n",
    "        title_count[title] = title_count.get(title,0)+1\n",
    "        \n",
    "    return title_count\n",
    "    "
   ]
  },
  {
   "cell_type": "code",
   "execution_count": 284,
   "metadata": {},
   "outputs": [
    {
     "data": {
      "text/plain": [
       "{'Associate': 12, 'Professor': 13, 'Assistant': 12}"
      ]
     },
     "execution_count": 284,
     "metadata": {},
     "output_type": "execute_result"
    }
   ],
   "source": [
    "count_titles(\"faculty.csv\")"
   ]
  },
  {
   "cell_type": "code",
   "execution_count": 286,
   "metadata": {},
   "outputs": [
    {
     "data": {
      "text/plain": [
       "['dif', 'wat', 'pub']"
      ]
     },
     "execution_count": 286,
     "metadata": {},
     "output_type": "execute_result"
    }
   ],
   "source": [
    "#deleting word after space\n",
    "l= ['dif aye','wat sc d', 'pub on']\n",
    "[title.split()[0] for title in l]"
   ]
  },
  {
   "cell_type": "code",
   "execution_count": 321,
   "metadata": {},
   "outputs": [],
   "source": [
    "#get email\n",
    "import csv\n",
    "\n",
    "def emails(csv_file_name):\n",
    "    file = open(csv_file_name)\n",
    "    csv_f = csv.reader(file)\n",
    "    \n",
    "    # Creating a list to store all the titles from the csv file\n",
    "    email_list = []\n",
    "   \n",
    "    next(csv_f) #skip the first row\n",
    "    \n",
    "    for row in csv_f:\n",
    "        email_list.append(row[3])\n",
    "    \n",
    "    \n",
    "      \n",
    "    return email_list"
   ]
  },
  {
   "cell_type": "code",
   "execution_count": 322,
   "metadata": {},
   "outputs": [
    {
     "data": {
      "text/plain": [
       "['bellamys@mail.med.upenn.edu',\n",
       " 'warren@upenn.edu',\n",
       " 'bryanma@upenn.edu',\n",
       " 'jinboche@upenn.edu',\n",
       " 'sellenbe@upenn.edu',\n",
       " 'jellenbe@mail.med.upenn.edu',\n",
       " 'ruifeng@upenn.edu',\n",
       " 'bcfrench@mail.med.upenn.edu',\n",
       " 'pgimotty@upenn.edu',\n",
       " 'wguo@mail.med.upenn.edu',\n",
       " 'hsu9@mail.med.upenn.edu',\n",
       " 'rhubb@mail.med.upenn.edu',\n",
       " 'whwang@mail.med.upenn.edu',\n",
       " 'mjoffe@mail.med.upenn.edu',\n",
       " 'jrlandis@mail.med.upenn.edu',\n",
       " 'liy3@email.chop.edu',\n",
       " 'mingyao@mail.med.upenn.edu',\n",
       " 'hongzhe@upenn.edu',\n",
       " 'rlocalio@upenn.edu',\n",
       " 'nanditam@mail.med.upenn.edu',\n",
       " 'knashawn@mail.med.upenn.edu',\n",
       " 'propert@mail.med.upenn.edu',\n",
       " 'mputt@mail.med.upenn.edu',\n",
       " 'sratclif@upenn.edu',\n",
       " 'michross@upenn.edu',\n",
       " 'jaroy@mail.med.upenn.edu',\n",
       " 'msammel@cceb.med.upenn.edu',\n",
       " 'shawp@upenn.edu',\n",
       " 'rshi@mail.med.upenn.edu',\n",
       " 'hshou@mail.med.upenn.edu',\n",
       " 'jshults@mail.med.upenn.edu',\n",
       " 'alisaste@mail.med.upenn.edu',\n",
       " 'atroxel@mail.med.upenn.edu',\n",
       " 'rxiao@mail.med.upenn.edu',\n",
       " 'sxie@mail.med.upenn.edu',\n",
       " 'dxie@upenn.edu',\n",
       " 'weiyang@mail.med.upenn.edu']"
      ]
     },
     "execution_count": 322,
     "metadata": {},
     "output_type": "execute_result"
    }
   ],
   "source": [
    "emails(\"faculty.csv\")"
   ]
  },
  {
   "cell_type": "code",
   "execution_count": 325,
   "metadata": {},
   "outputs": [],
   "source": [
    "#given email list, get unique domains\n",
    "\n",
    "\n",
    "def unique_domains(email):\n",
    "    \n",
    "    #domain name after @\n",
    "    domain_list = [i.split(\"@\",1)[1] for i in email]\n",
    "    \n",
    "    #fine unique domain names\n",
    "    unique_set= set(domain_list)\n",
    "    unique_list = list(unique_set)\n",
    "      \n",
    "    return unique_list"
   ]
  },
  {
   "cell_type": "code",
   "execution_count": 326,
   "metadata": {},
   "outputs": [
    {
     "data": {
      "text/plain": [
       "['cceb.med.upenn.edu', 'mail.med.upenn.edu', 'email.chop.edu', 'upenn.edu']"
      ]
     },
     "execution_count": 326,
     "metadata": {},
     "output_type": "execute_result"
    }
   ],
   "source": [
    "unique_domains(['bellamys@mail.med.upenn.edu',\n",
    " 'warren@upenn.edu',\n",
    " 'bryanma@upenn.edu',\n",
    " 'jinboche@upenn.edu',\n",
    " 'sellenbe@upenn.edu',\n",
    " 'jellenbe@mail.med.upenn.edu',\n",
    " 'ruifeng@upenn.edu',\n",
    " 'bcfrench@mail.med.upenn.edu',\n",
    " 'pgimotty@upenn.edu',\n",
    " 'wguo@mail.med.upenn.edu',\n",
    " 'hsu9@mail.med.upenn.edu',\n",
    " 'rhubb@mail.med.upenn.edu',\n",
    " 'whwang@mail.med.upenn.edu',\n",
    " 'mjoffe@mail.med.upenn.edu',\n",
    " 'jrlandis@mail.med.upenn.edu',\n",
    " 'liy3@email.chop.edu',\n",
    " 'mingyao@mail.med.upenn.edu',\n",
    " 'hongzhe@upenn.edu',\n",
    " 'rlocalio@upenn.edu',\n",
    " 'nanditam@mail.med.upenn.edu',\n",
    " 'knashawn@mail.med.upenn.edu',\n",
    " 'propert@mail.med.upenn.edu',\n",
    " 'mputt@mail.med.upenn.edu',\n",
    " 'sratclif@upenn.edu',\n",
    " 'michross@upenn.edu',\n",
    " 'jaroy@mail.med.upenn.edu',\n",
    " 'msammel@cceb.med.upenn.edu',\n",
    " 'shawp@upenn.edu',\n",
    " 'rshi@mail.med.upenn.edu',\n",
    " 'hshou@mail.med.upenn.edu',\n",
    " 'jshults@mail.med.upenn.edu',\n",
    " 'alisaste@mail.med.upenn.edu',\n",
    " 'atroxel@mail.med.upenn.edu',\n",
    " 'rxiao@mail.med.upenn.edu',\n",
    " 'sxie@mail.med.upenn.edu',\n",
    " 'dxie@upenn.edu',\n",
    " 'weiyang@mail.med.upenn.edu'])"
   ]
  },
  {
   "cell_type": "code",
   "execution_count": 338,
   "metadata": {},
   "outputs": [],
   "source": [
    "import csv\n",
    "\n",
    "def write_to_csv(list_of_emails):\n",
    "\n",
    "    with open('emails.csv','w') as new_file:\n",
    "        csv_writer = csv.writer(new_file)\n",
    "        \n",
    "        csv_writer.writerow('Email List')\n",
    "\n",
    "        for email in list_of_emails:\n",
    "            csv_writer.writerow(email)\n",
    "    return "
   ]
  },
  {
   "cell_type": "code",
   "execution_count": 339,
   "metadata": {},
   "outputs": [],
   "source": [
    "write_to_csv([\"hello\",'what','yes'])"
   ]
  },
  {
   "cell_type": "code",
   "execution_count": null,
   "metadata": {},
   "outputs": [],
   "source": []
  },
  {
   "cell_type": "code",
   "execution_count": 153,
   "metadata": {},
   "outputs": [],
   "source": [
    "#create dict from csv with key = last name\n",
    "def get_dict1():\n",
    "    import csv\n",
    "    with open ('faculty.csv','r') as csv_file:\n",
    "        csv_reader = csv.reader(csv_file)\n",
    "        \n",
    "        people = {}\n",
    "        fullname = []\n",
    "        #skip the first row\n",
    "        next(csv_reader)\n",
    "        \n",
    "        for row in csv_reader:\n",
    "           #get the full name\n",
    "            fullname.append(row[0])\n",
    "            #get the last name from full name\n",
    "            lastname_list = list(map(lambda name: name.split()[-1], fullname))\n",
    "            \n",
    "            \n",
    "    return people\n",
    "                \n",
    "            \n",
    "      \n"
   ]
  },
  {
   "cell_type": "code",
   "execution_count": 155,
   "metadata": {},
   "outputs": [
    {
     "data": {
      "text/plain": [
       "{'Bellamy': [' Ph.D.',\n",
       "  'Assistant Professor of Biostatistics',\n",
       "  'weiyang@mail.med.upenn.edu'],\n",
       " 'Bilker': [' Ph.D.',\n",
       "  'Assistant Professor of Biostatistics',\n",
       "  'weiyang@mail.med.upenn.edu'],\n",
       " 'Bryan': [' Ph.D.',\n",
       "  'Assistant Professor of Biostatistics',\n",
       "  'weiyang@mail.med.upenn.edu'],\n",
       " 'Chen': [' Ph.D.',\n",
       "  'Assistant Professor of Biostatistics',\n",
       "  'weiyang@mail.med.upenn.edu'],\n",
       " 'Ellenberg': [' Ph.D.',\n",
       "  'Assistant Professor of Biostatistics',\n",
       "  'weiyang@mail.med.upenn.edu'],\n",
       " 'Feng': [' Ph.D.',\n",
       "  'Assistant Professor of Biostatistics',\n",
       "  'weiyang@mail.med.upenn.edu'],\n",
       " 'French': [' Ph.D.',\n",
       "  'Assistant Professor of Biostatistics',\n",
       "  'weiyang@mail.med.upenn.edu'],\n",
       " 'Gimotty': [' Ph.D.',\n",
       "  'Assistant Professor of Biostatistics',\n",
       "  'weiyang@mail.med.upenn.edu'],\n",
       " 'Guo': [' Ph.D.',\n",
       "  'Assistant Professor of Biostatistics',\n",
       "  'weiyang@mail.med.upenn.edu'],\n",
       " 'Hsu': [' Ph.D.',\n",
       "  'Assistant Professor of Biostatistics',\n",
       "  'weiyang@mail.med.upenn.edu'],\n",
       " 'Hubbard': [' Ph.D.',\n",
       "  'Assistant Professor of Biostatistics',\n",
       "  'weiyang@mail.med.upenn.edu'],\n",
       " 'Hwang': [' Ph.D.',\n",
       "  'Assistant Professor of Biostatistics',\n",
       "  'weiyang@mail.med.upenn.edu'],\n",
       " 'Joffe': [' Ph.D.',\n",
       "  'Assistant Professor of Biostatistics',\n",
       "  'weiyang@mail.med.upenn.edu'],\n",
       " 'Landis': [' Ph.D.',\n",
       "  'Assistant Professor of Biostatistics',\n",
       "  'weiyang@mail.med.upenn.edu'],\n",
       " 'Li': [' Ph.D.',\n",
       "  'Assistant Professor of Biostatistics',\n",
       "  'weiyang@mail.med.upenn.edu'],\n",
       " 'Localio': [' Ph.D.',\n",
       "  'Assistant Professor of Biostatistics',\n",
       "  'weiyang@mail.med.upenn.edu'],\n",
       " 'Mitra': [' Ph.D.',\n",
       "  'Assistant Professor of Biostatistics',\n",
       "  'weiyang@mail.med.upenn.edu'],\n",
       " 'Morales': [' Ph.D.',\n",
       "  'Assistant Professor of Biostatistics',\n",
       "  'weiyang@mail.med.upenn.edu'],\n",
       " 'Propert': [' Ph.D.',\n",
       "  'Assistant Professor of Biostatistics',\n",
       "  'weiyang@mail.med.upenn.edu'],\n",
       " 'Putt': [' Ph.D.',\n",
       "  'Assistant Professor of Biostatistics',\n",
       "  'weiyang@mail.med.upenn.edu'],\n",
       " 'Ratcliffe': [' Ph.D.',\n",
       "  'Assistant Professor of Biostatistics',\n",
       "  'weiyang@mail.med.upenn.edu'],\n",
       " 'Ross': [' Ph.D.',\n",
       "  'Assistant Professor of Biostatistics',\n",
       "  'weiyang@mail.med.upenn.edu'],\n",
       " 'Roy': [' Ph.D.',\n",
       "  'Assistant Professor of Biostatistics',\n",
       "  'weiyang@mail.med.upenn.edu'],\n",
       " 'Sammel': [' Ph.D.',\n",
       "  'Assistant Professor of Biostatistics',\n",
       "  'weiyang@mail.med.upenn.edu'],\n",
       " 'Shaw': [' Ph.D.',\n",
       "  'Assistant Professor of Biostatistics',\n",
       "  'weiyang@mail.med.upenn.edu'],\n",
       " 'Shinohara': [' Ph.D.',\n",
       "  'Assistant Professor of Biostatistics',\n",
       "  'weiyang@mail.med.upenn.edu'],\n",
       " 'Shou': [' Ph.D.',\n",
       "  'Assistant Professor of Biostatistics',\n",
       "  'weiyang@mail.med.upenn.edu'],\n",
       " 'Shults': [' Ph.D.',\n",
       "  'Assistant Professor of Biostatistics',\n",
       "  'weiyang@mail.med.upenn.edu'],\n",
       " 'Stephens': [' Ph.D.',\n",
       "  'Assistant Professor of Biostatistics',\n",
       "  'weiyang@mail.med.upenn.edu'],\n",
       " 'Troxel': [' Ph.D.',\n",
       "  'Assistant Professor of Biostatistics',\n",
       "  'weiyang@mail.med.upenn.edu'],\n",
       " 'Xiao': [' Ph.D.',\n",
       "  'Assistant Professor of Biostatistics',\n",
       "  'weiyang@mail.med.upenn.edu'],\n",
       " 'Xie': [' Ph.D.',\n",
       "  'Assistant Professor of Biostatistics',\n",
       "  'weiyang@mail.med.upenn.edu'],\n",
       " 'Yang': [' Ph.D.',\n",
       "  'Assistant Professor of Biostatistics',\n",
       "  'weiyang@mail.med.upenn.edu']}"
      ]
     },
     "execution_count": 155,
     "metadata": {},
     "output_type": "execute_result"
    }
   ],
   "source": [
    "get_dict1()"
   ]
  },
  {
   "cell_type": "code",
   "execution_count": 282,
   "metadata": {},
   "outputs": [],
   "source": [
    "#create dict from csv with key = last name\n",
    "def get_dict():\n",
    "    import csv\n",
    "    with open ('faculty.csv','r') as csv_file:\n",
    "        csv_reader = csv.reader(csv_file)\n",
    "        \n",
    "        faculty_list= {}\n",
    "        lastname= []\n",
    "        fullname = []\n",
    "        #skip the first row\n",
    "        next(csv_reader)\n",
    "    \n",
    "        #loop to read out names as key and the rest as values\n",
    "        #perform split() to only get the last name\n",
    "        for name, *values in csv_reader:\n",
    "            faculty_list.update({map(lambda name:name.split()[-1],name):list(values)})\n",
    "\n",
    "    return faculty_list\n",
    "                "
   ]
  },
  {
   "cell_type": "code",
   "execution_count": 283,
   "metadata": {},
   "outputs": [
    {
     "data": {
      "text/plain": [
       "{<map at 0x10d217a90>: [' Sc.D.',\n",
       "  'Associate Professor of Biostatistics',\n",
       "  'bellamys@mail.med.upenn.edu'],\n",
       " <map at 0x10d1f5b90>: ['Ph.D.',\n",
       "  'Professor of Biostatistics',\n",
       "  'warren@upenn.edu'],\n",
       " <map at 0x10d1f50d0>: [' PhD',\n",
       "  'Assistant Professor of Biostatistics',\n",
       "  'bryanma@upenn.edu'],\n",
       " <map at 0x10d1fb850>: [' Ph.D.',\n",
       "  'Associate Professor of Biostatistics',\n",
       "  'jinboche@upenn.edu'],\n",
       " <map at 0x10d1fb450>: [' Ph.D.',\n",
       "  'Professor of Biostatistics',\n",
       "  'sellenbe@upenn.edu'],\n",
       " <map at 0x10d1fb290>: [' Ph.D.',\n",
       "  'Professor of Biostatistics',\n",
       "  'jellenbe@mail.med.upenn.edu'],\n",
       " <map at 0x10d1fb710>: [' Ph.D',\n",
       "  'Assistant Professor of Biostatistics',\n",
       "  'ruifeng@upenn.edu'],\n",
       " <map at 0x10d1fb2d0>: [' PhD',\n",
       "  'Associate Professor of Biostatistics',\n",
       "  'bcfrench@mail.med.upenn.edu'],\n",
       " <map at 0x10d216350>: [' Ph.D',\n",
       "  'Professor of Biostatistics',\n",
       "  'pgimotty@upenn.edu'],\n",
       " <map at 0x10d216890>: [' Ph.D',\n",
       "  'Professor of Biostatistics',\n",
       "  'wguo@mail.med.upenn.edu'],\n",
       " <map at 0x10d216310>: [' Ph.D.',\n",
       "  'Assistant Professor of Biostatistics',\n",
       "  'hsu9@mail.med.upenn.edu'],\n",
       " <map at 0x10d2166d0>: [' PhD',\n",
       "  'Associate Professor of Biostatistics',\n",
       "  'rhubb@mail.med.upenn.edu'],\n",
       " <map at 0x10d20c310>: [' Ph.D.',\n",
       "  'Associate Professor of Biostatistics',\n",
       "  'whwang@mail.med.upenn.edu'],\n",
       " <map at 0x10d20cd90>: [' MD MPH Ph.D',\n",
       "  'Professor of Biostatistics',\n",
       "  'mjoffe@mail.med.upenn.edu'],\n",
       " <map at 0x10d20ced0>: [' B.S.Ed. M.S. Ph.D.',\n",
       "  'Professor of Biostatistics',\n",
       "  'jrlandis@mail.med.upenn.edu'],\n",
       " <map at 0x10d20c250>: [' Ph.D.',\n",
       "  'Assistant Professor of Biostatistics',\n",
       "  'liy3@email.chop.edu'],\n",
       " <map at 0x10d1f8490>: [' Ph.D.',\n",
       "  'Associate Professor of Biostatistics',\n",
       "  'mingyao@mail.med.upenn.edu'],\n",
       " <map at 0x10d2000d0>: [' Ph.D',\n",
       "  'Professor of Biostatistics',\n",
       "  'hongzhe@upenn.edu'],\n",
       " <map at 0x10d200850>: [' JD MA MPH MS PhD',\n",
       "  'Associate Professor of Biostatistics',\n",
       "  'rlocalio@upenn.edu'],\n",
       " <map at 0x10d2085d0>: [' Ph.D.',\n",
       "  'Associate Professor of Biostatistics',\n",
       "  'nanditam@mail.med.upenn.edu'],\n",
       " <map at 0x10d208950>: [' Sc.D.',\n",
       "  'Associate Professor of Biostatistics',\n",
       "  'knashawn@mail.med.upenn.edu'],\n",
       " <map at 0x10d235b50>: [' Sc.D.',\n",
       "  'Professor of Biostatistics',\n",
       "  'propert@mail.med.upenn.edu'],\n",
       " <map at 0x10d235f10>: [' PhD ScD',\n",
       "  'Professor of Biostatistics',\n",
       "  'mputt@mail.med.upenn.edu'],\n",
       " <map at 0x10d235fd0>: [' Ph.D.',\n",
       "  'Associate Professor of Biostatistics',\n",
       "  'sratclif@upenn.edu'],\n",
       " <map at 0x10d235290>: [' PhD',\n",
       "  'Assistant Professor is Biostatistics',\n",
       "  'michross@upenn.edu'],\n",
       " <map at 0x10d235710>: [' Ph.D.',\n",
       "  'Associate Professor of Biostatistics',\n",
       "  'jaroy@mail.med.upenn.edu'],\n",
       " <map at 0x10d235150>: [' Sc.D.',\n",
       "  'Professor of Biostatistics',\n",
       "  'msammel@cceb.med.upenn.edu'],\n",
       " <map at 0x10d2350d0>: [' PhD',\n",
       "  'Assistant Professor of Biostatistics',\n",
       "  'shawp@upenn.edu'],\n",
       " <map at 0x10d235550>: ['0',\n",
       "  'Assistant Professor of Biostatistics',\n",
       "  'rshi@mail.med.upenn.edu'],\n",
       " <map at 0x10d235a10>: [' Ph.D.',\n",
       "  'Assistant Professor of Biostatistics',\n",
       "  'hshou@mail.med.upenn.edu'],\n",
       " <map at 0x10d235a90>: [' Ph.D.',\n",
       "  'Professor of Biostatistics',\n",
       "  'jshults@mail.med.upenn.edu'],\n",
       " <map at 0x10d235610>: [' Ph.D.',\n",
       "  'Assistant Professor of Biostatistics',\n",
       "  'alisaste@mail.med.upenn.edu'],\n",
       " <map at 0x10d202a10>: [' ScD',\n",
       "  'Professor of Biostatistics',\n",
       "  'atroxel@mail.med.upenn.edu'],\n",
       " <map at 0x10d202f90>: [' PhD',\n",
       "  'Assistant Professor of Biostatistics',\n",
       "  'rxiao@mail.med.upenn.edu'],\n",
       " <map at 0x10d202250>: [' Ph.D.',\n",
       "  'Associate Professor of Biostatistics',\n",
       "  'sxie@mail.med.upenn.edu'],\n",
       " <map at 0x10d2028d0>: [' PhD',\n",
       "  'Assistant Professor of Biostatistics',\n",
       "  'dxie@upenn.edu'],\n",
       " <map at 0x10d202650>: [' Ph.D.',\n",
       "  'Assistant Professor of Biostatistics',\n",
       "  'weiyang@mail.med.upenn.edu']}"
      ]
     },
     "execution_count": 283,
     "metadata": {},
     "output_type": "execute_result"
    }
   ],
   "source": [
    "get_dict()"
   ]
  },
  {
   "cell_type": "code",
   "execution_count": 277,
   "metadata": {},
   "outputs": [],
   "source": [
    "#read csv file and get key as tuple and its correspoinding values in list\n",
    "def get_dict2():\n",
    "    import csv\n",
    "    faculty_dict={}\n",
    "    \n",
    "    with open('faculty.csv') as file:\n",
    "        csv_reader = csv.reader(file)\n",
    "        next(csv_reader)\n",
    "        for name, *values in csv_reader:\n",
    "             faculty_dict.update({tuple(map(str,name.split(' '))):list(values)})\n",
    "           \n",
    "    return faculty_dict\n",
    "\n"
   ]
  },
  {
   "cell_type": "code",
   "execution_count": 74,
   "metadata": {},
   "outputs": [
    {
     "data": {
      "text/plain": [
       "{('Scarlett', 'L.', 'Bellamy'): [' Sc.D.',\n",
       "  'Associate Professor of Biostatistics',\n",
       "  'bellamys@mail.med.upenn.edu'],\n",
       " ('Warren', 'B.', 'Bilker'): ['Ph.D.',\n",
       "  'Professor of Biostatistics',\n",
       "  'warren@upenn.edu'],\n",
       " ('Matthew', 'W', 'Bryan'): [' PhD',\n",
       "  'Assistant Professor of Biostatistics',\n",
       "  'bryanma@upenn.edu'],\n",
       " ('Jinbo', 'Chen'): [' Ph.D.',\n",
       "  'Associate Professor of Biostatistics',\n",
       "  'jinboche@upenn.edu'],\n",
       " ('Susan', 'S', 'Ellenberg'): [' Ph.D.',\n",
       "  'Professor of Biostatistics',\n",
       "  'sellenbe@upenn.edu'],\n",
       " ('Jonas', 'H.', 'Ellenberg'): [' Ph.D.',\n",
       "  'Professor of Biostatistics',\n",
       "  'jellenbe@mail.med.upenn.edu'],\n",
       " ('Rui', 'Feng'): [' Ph.D',\n",
       "  'Assistant Professor of Biostatistics',\n",
       "  'ruifeng@upenn.edu'],\n",
       " ('Benjamin', 'C.', 'French'): [' PhD',\n",
       "  'Associate Professor of Biostatistics',\n",
       "  'bcfrench@mail.med.upenn.edu'],\n",
       " ('Phyllis', 'A.', 'Gimotty'): [' Ph.D',\n",
       "  'Professor of Biostatistics',\n",
       "  'pgimotty@upenn.edu'],\n",
       " ('Wensheng', 'Guo'): [' Ph.D',\n",
       "  'Professor of Biostatistics',\n",
       "  'wguo@mail.med.upenn.edu'],\n",
       " ('Yenchih', 'Hsu'): [' Ph.D.',\n",
       "  'Assistant Professor of Biostatistics',\n",
       "  'hsu9@mail.med.upenn.edu'],\n",
       " ('Rebecca', 'A', 'Hubbard'): [' PhD',\n",
       "  'Associate Professor of Biostatistics',\n",
       "  'rhubb@mail.med.upenn.edu'],\n",
       " ('Wei-Ting', 'Hwang'): [' Ph.D.',\n",
       "  'Associate Professor of Biostatistics',\n",
       "  'whwang@mail.med.upenn.edu'],\n",
       " ('Marshall', 'M.', 'Joffe'): [' MD MPH Ph.D',\n",
       "  'Professor of Biostatistics',\n",
       "  'mjoffe@mail.med.upenn.edu'],\n",
       " ('J.', 'Richard', 'Landis'): [' B.S.Ed. M.S. Ph.D.',\n",
       "  'Professor of Biostatistics',\n",
       "  'jrlandis@mail.med.upenn.edu'],\n",
       " ('Yimei', 'Li'): [' Ph.D.',\n",
       "  'Assistant Professor of Biostatistics',\n",
       "  'liy3@email.chop.edu'],\n",
       " ('Mingyao', 'Li'): [' Ph.D.',\n",
       "  'Associate Professor of Biostatistics',\n",
       "  'mingyao@mail.med.upenn.edu'],\n",
       " ('Hongzhe', 'Li'): [' Ph.D',\n",
       "  'Professor of Biostatistics',\n",
       "  'hongzhe@upenn.edu'],\n",
       " ('A.', 'Russell', 'Localio'): [' JD MA MPH MS PhD',\n",
       "  'Associate Professor of Biostatistics',\n",
       "  'rlocalio@upenn.edu'],\n",
       " ('Nandita', 'Mitra'): [' Ph.D.',\n",
       "  'Associate Professor of Biostatistics',\n",
       "  'nanditam@mail.med.upenn.edu'],\n",
       " ('Knashawn', 'H.', 'Morales'): [' Sc.D.',\n",
       "  'Associate Professor of Biostatistics',\n",
       "  'knashawn@mail.med.upenn.edu'],\n",
       " ('Kathleen', 'Joy', 'Propert'): [' Sc.D.',\n",
       "  'Professor of Biostatistics',\n",
       "  'propert@mail.med.upenn.edu'],\n",
       " ('Mary', 'E.', 'Putt'): [' PhD ScD',\n",
       "  'Professor of Biostatistics',\n",
       "  'mputt@mail.med.upenn.edu'],\n",
       " ('Sarah', 'Jane', 'Ratcliffe'): [' Ph.D.',\n",
       "  'Associate Professor of Biostatistics',\n",
       "  'sratclif@upenn.edu'],\n",
       " ('Michelle', 'Elana', 'Ross'): [' PhD',\n",
       "  'Assistant Professor is Biostatistics',\n",
       "  'michross@upenn.edu'],\n",
       " ('Jason', 'A.', 'Roy'): [' Ph.D.',\n",
       "  'Associate Professor of Biostatistics',\n",
       "  'jaroy@mail.med.upenn.edu'],\n",
       " ('Mary', 'D.', 'Sammel'): [' Sc.D.',\n",
       "  'Professor of Biostatistics',\n",
       "  'msammel@cceb.med.upenn.edu'],\n",
       " ('Pamela', 'Ann', 'Shaw'): [' PhD',\n",
       "  'Assistant Professor of Biostatistics',\n",
       "  'shawp@upenn.edu'],\n",
       " ('Russell', 'Takeshi', 'Shinohara'): ['0',\n",
       "  'Assistant Professor of Biostatistics',\n",
       "  'rshi@mail.med.upenn.edu'],\n",
       " ('Haochang', 'Shou'): [' Ph.D.',\n",
       "  'Assistant Professor of Biostatistics',\n",
       "  'hshou@mail.med.upenn.edu'],\n",
       " ('Justine', 'Shults'): [' Ph.D.',\n",
       "  'Professor of Biostatistics',\n",
       "  'jshults@mail.med.upenn.edu'],\n",
       " ('Alisa', 'Jane', 'Stephens'): [' Ph.D.',\n",
       "  'Assistant Professor of Biostatistics',\n",
       "  'alisaste@mail.med.upenn.edu'],\n",
       " ('Andrea', 'Beth', 'Troxel'): [' ScD',\n",
       "  'Professor of Biostatistics',\n",
       "  'atroxel@mail.med.upenn.edu'],\n",
       " ('Rui', 'Xiao'): [' PhD',\n",
       "  'Assistant Professor of Biostatistics',\n",
       "  'rxiao@mail.med.upenn.edu'],\n",
       " ('Sharon', 'Xiangwen', 'Xie'): [' Ph.D.',\n",
       "  'Associate Professor of Biostatistics',\n",
       "  'sxie@mail.med.upenn.edu'],\n",
       " ('Dawei', 'Xie'): [' PhD',\n",
       "  'Assistant Professor of Biostatistics',\n",
       "  'dxie@upenn.edu'],\n",
       " ('Wei', '(Peter)', 'Yang'): [' Ph.D.',\n",
       "  'Assistant Professor of Biostatistics',\n",
       "  'weiyang@mail.med.upenn.edu']}"
      ]
     },
     "execution_count": 74,
     "metadata": {},
     "output_type": "execute_result"
    }
   ],
   "source": [
    "get_dict2()"
   ]
  },
  {
   "cell_type": "code",
   "execution_count": 72,
   "metadata": {},
   "outputs": [
    {
     "name": "stdout",
     "output_type": "stream",
     "text": [
      "m. wht\n"
     ]
    }
   ],
   "source": [
    "# split full name to first and last\n",
    "\n",
    "full = \"jOhn m. wht\"\n",
    "first,last = full.split(\" \",1)\n",
    "print(last)"
   ]
  },
  {
   "cell_type": "code",
   "execution_count": 66,
   "metadata": {},
   "outputs": [
    {
     "name": "stdout",
     "output_type": "stream",
     "text": [
      "['b', 'd', 'f']\n"
     ]
    }
   ],
   "source": [
    "#map lambda funciton to get last name from a list of full names\n",
    "full = ['a b','c e d','e f']\n",
    "last = list(map(lambda name: name.split()[-1], full))\n",
    "print(last)"
   ]
  },
  {
   "cell_type": "code",
   "execution_count": 69,
   "metadata": {},
   "outputs": [
    {
     "name": "stdout",
     "output_type": "stream",
     "text": [
      "['John', 'F.']\n",
      "Kennedy\n"
     ]
    }
   ],
   "source": [
    "#splite full name into first and last (choose how the name is split)\n",
    "name = \"John F. Kennedy\"\n",
    "*first,last = name.split()\n",
    "print(first)\n",
    "print(last)"
   ]
  },
  {
   "cell_type": "code",
   "execution_count": 141,
   "metadata": {},
   "outputs": [],
   "source": [
    "#create dict from csv with key = last name\n",
    "def dicttest():\n",
    "    import csv\n",
    "    with open ('faculty.csv','r') as csv_file:\n",
    "        csv_reader = csv.DictR\\\\\\eader(csv_file)\n",
    "        \n",
    "        people = {}\n",
    "        fullname = []\n",
    "        degree= []\n",
    "        title = []\n",
    "        email = []\n",
    "        values = []\n",
    "        #skip the first row\n",
    "        next(csv_reader)\n",
    "        \n",
    "        for row in csv_reader:\n",
    "            row = values#get list of full name\n",
    "            \n",
    "            print(values)\n",
    "            fullname.append(row[0])\n",
    "            \n",
    "            \n",
    "            #get the last name from full name\n",
    "            lastname = list(map(lambda name: name.split()[-1], fullname))\n",
    "            \n",
    "            \n",
    "            \n",
    "    return\n"
   ]
  },
  {
   "cell_type": "code",
   "execution_count": null,
   "metadata": {},
   "outputs": [],
   "source": []
  },
  {
   "cell_type": "code",
   "execution_count": 262,
   "metadata": {},
   "outputs": [],
   "source": [
    "import numpy as np\n",
    "A = np.array([[1,2,3],[2,7,4]])\n",
    "B = np.array([[1,-1],[0,1]])\n",
    "C = np.array([[5,-1],[9,1],[6,0]])\n",
    "D = np.array([[3,-2,-1],[1,2,3]])\n",
    "\n",
    "u = np.array([6,2,-3,5])\n",
    "v = np.array([3,5,-1,4])"
   ]
  },
  {
   "cell_type": "code",
   "execution_count": 264,
   "metadata": {},
   "outputs": [
    {
     "data": {
      "text/plain": [
       "(2, 2)"
      ]
     },
     "execution_count": 264,
     "metadata": {},
     "output_type": "execute_result"
    }
   ],
   "source": [
    "B.shape"
   ]
  },
  {
   "cell_type": "code",
   "execution_count": 265,
   "metadata": {},
   "outputs": [
    {
     "data": {
      "text/plain": [
       "(4,)"
      ]
     },
     "execution_count": 265,
     "metadata": {},
     "output_type": "execute_result"
    }
   ],
   "source": [
    "u.shape"
   ]
  },
  {
   "cell_type": "code",
   "execution_count": 266,
   "metadata": {},
   "outputs": [
    {
     "data": {
      "text/plain": [
       "51"
      ]
     },
     "execution_count": 266,
     "metadata": {},
     "output_type": "execute_result"
    }
   ],
   "source": [
    "np.dot(u,v)"
   ]
  },
  {
   "cell_type": "code",
   "execution_count": 267,
   "metadata": {},
   "outputs": [
    {
     "data": {
      "text/plain": [
       "array([ 9,  7, -4,  9])"
      ]
     },
     "execution_count": 267,
     "metadata": {},
     "output_type": "execute_result"
    }
   ],
   "source": [
    "u+v"
   ]
  },
  {
   "cell_type": "code",
   "execution_count": 268,
   "metadata": {},
   "outputs": [
    {
     "data": {
      "text/plain": [
       "8.602325267042627"
      ]
     },
     "execution_count": 268,
     "metadata": {},
     "output_type": "execute_result"
    }
   ],
   "source": [
    "np.linalg.norm(u)"
   ]
  },
  {
   "cell_type": "code",
   "execution_count": 271,
   "metadata": {},
   "outputs": [
    {
     "data": {
      "text/plain": [
       "array([[-4, -7, -3],\n",
       "       [ 3,  6,  4]])"
      ]
     },
     "execution_count": 271,
     "metadata": {},
     "output_type": "execute_result"
    }
   ],
   "source": [
    "A-C.T"
   ]
  },
  {
   "cell_type": "code",
   "execution_count": 272,
   "metadata": {},
   "outputs": [
    {
     "data": {
      "text/plain": [
       "array([[14,  3,  3],\n",
       "       [ 2,  7,  9]])"
      ]
     },
     "execution_count": 272,
     "metadata": {},
     "output_type": "execute_result"
    }
   ],
   "source": [
    "C.T + 3*D"
   ]
  },
  {
   "cell_type": "code",
   "execution_count": 309,
   "metadata": {},
   "outputs": [],
   "source": [
    "def cal_matrix(mtrx1,mtrx2):\n",
    "    try:\n",
    "        print(mtrx1*mtrx2)\n",
    "    except ValueError:\n",
    "        print(None)"
   ]
  },
  {
   "cell_type": "code",
   "execution_count": 311,
   "metadata": {},
   "outputs": [
    {
     "name": "stdout",
     "output_type": "stream",
     "text": [
      "[[ 3 -4 -3]\n",
      " [ 2 14 12]]\n"
     ]
    }
   ],
   "source": [
    "cal_matrix(A,D)"
   ]
  },
  {
   "cell_type": "code",
   "execution_count": 278,
   "metadata": {},
   "outputs": [
    {
     "ename": "ValueError",
     "evalue": "operands could not be broadcast together with shapes (2,2) (3,2) ",
     "output_type": "error",
     "traceback": [
      "\u001b[0;31m---------------------------------------------------------------------------\u001b[0m",
      "\u001b[0;31mValueError\u001b[0m                                Traceback (most recent call last)",
      "\u001b[0;32m<ipython-input-278-91634857e666>\u001b[0m in \u001b[0;36m<module>\u001b[0;34m\u001b[0m\n\u001b[0;32m----> 1\u001b[0;31m \u001b[0mB\u001b[0m\u001b[0;34m*\u001b[0m\u001b[0mA\u001b[0m\u001b[0;34m.\u001b[0m\u001b[0mT\u001b[0m\u001b[0;34m\u001b[0m\u001b[0;34m\u001b[0m\u001b[0m\n\u001b[0m",
      "\u001b[0;31mValueError\u001b[0m: operands could not be broadcast together with shapes (2,2) (3,2) "
     ]
    }
   ],
   "source": [
    "B*A.T"
   ]
  },
  {
   "cell_type": "code",
   "execution_count": null,
   "metadata": {},
   "outputs": [],
   "source": []
  },
  {
   "cell_type": "code",
   "execution_count": 279,
   "metadata": {},
   "outputs": [
    {
     "ename": "ValueError",
     "evalue": "operands could not be broadcast together with shapes (2,2) (3,2) ",
     "output_type": "error",
     "traceback": [
      "\u001b[0;31m---------------------------------------------------------------------------\u001b[0m",
      "\u001b[0;31mValueError\u001b[0m                                Traceback (most recent call last)",
      "\u001b[0;32m<ipython-input-279-03507f8da0a7>\u001b[0m in \u001b[0;36m<module>\u001b[0;34m\u001b[0m\n\u001b[0;32m----> 1\u001b[0;31m \u001b[0mB\u001b[0m\u001b[0;34m*\u001b[0m\u001b[0mC\u001b[0m\u001b[0;34m\u001b[0m\u001b[0;34m\u001b[0m\u001b[0m\n\u001b[0m",
      "\u001b[0;31mValueError\u001b[0m: operands could not be broadcast together with shapes (2,2) (3,2) "
     ]
    }
   ],
   "source": [
    "B*C"
   ]
  },
  {
   "cell_type": "code",
   "execution_count": 280,
   "metadata": {},
   "outputs": [
    {
     "ename": "ValueError",
     "evalue": "operands could not be broadcast together with shapes (3,2) (2,2) ",
     "output_type": "error",
     "traceback": [
      "\u001b[0;31m---------------------------------------------------------------------------\u001b[0m",
      "\u001b[0;31mValueError\u001b[0m                                Traceback (most recent call last)",
      "\u001b[0;32m<ipython-input-280-a5fce2007bf4>\u001b[0m in \u001b[0;36m<module>\u001b[0;34m\u001b[0m\n\u001b[0;32m----> 1\u001b[0;31m \u001b[0mC\u001b[0m\u001b[0;34m*\u001b[0m\u001b[0mB\u001b[0m\u001b[0;34m\u001b[0m\u001b[0;34m\u001b[0m\u001b[0m\n\u001b[0m",
      "\u001b[0;31mValueError\u001b[0m: operands could not be broadcast together with shapes (3,2) (2,2) "
     ]
    }
   ],
   "source": [
    "C*B"
   ]
  },
  {
   "cell_type": "code",
   "execution_count": 286,
   "metadata": {},
   "outputs": [
    {
     "data": {
      "text/plain": [
       "array([[1, 1],\n",
       "       [0, 1]])"
      ]
     },
     "execution_count": 286,
     "metadata": {},
     "output_type": "execute_result"
    }
   ],
   "source": [
    "np.power(B,4)"
   ]
  },
  {
   "cell_type": "code",
   "execution_count": 283,
   "metadata": {},
   "outputs": [
    {
     "ename": "ValueError",
     "evalue": "operands could not be broadcast together with shapes (2,3) (3,2) ",
     "output_type": "error",
     "traceback": [
      "\u001b[0;31m---------------------------------------------------------------------------\u001b[0m",
      "\u001b[0;31mValueError\u001b[0m                                Traceback (most recent call last)",
      "\u001b[0;32m<ipython-input-283-f0695c8a1d6d>\u001b[0m in \u001b[0;36m<module>\u001b[0;34m\u001b[0m\n\u001b[0;32m----> 1\u001b[0;31m \u001b[0mA\u001b[0m\u001b[0;34m*\u001b[0m\u001b[0mA\u001b[0m\u001b[0;34m.\u001b[0m\u001b[0mT\u001b[0m\u001b[0;34m\u001b[0m\u001b[0;34m\u001b[0m\u001b[0m\n\u001b[0m",
      "\u001b[0;31mValueError\u001b[0m: operands could not be broadcast together with shapes (2,3) (3,2) "
     ]
    }
   ],
   "source": [
    "A*A.T"
   ]
  },
  {
   "cell_type": "code",
   "execution_count": 284,
   "metadata": {},
   "outputs": [
    {
     "ename": "ValueError",
     "evalue": "operands could not be broadcast together with shapes (3,2) (2,3) ",
     "output_type": "error",
     "traceback": [
      "\u001b[0;31m---------------------------------------------------------------------------\u001b[0m",
      "\u001b[0;31mValueError\u001b[0m                                Traceback (most recent call last)",
      "\u001b[0;32m<ipython-input-284-4f393ed229c6>\u001b[0m in \u001b[0;36m<module>\u001b[0;34m\u001b[0m\n\u001b[0;32m----> 1\u001b[0;31m \u001b[0mD\u001b[0m\u001b[0;34m.\u001b[0m\u001b[0mT\u001b[0m\u001b[0;34m*\u001b[0m\u001b[0mD\u001b[0m\u001b[0;34m\u001b[0m\u001b[0;34m\u001b[0m\u001b[0m\n\u001b[0m",
      "\u001b[0;31mValueError\u001b[0m: operands could not be broadcast together with shapes (3,2) (2,3) "
     ]
    }
   ],
   "source": [
    "D.T*D"
   ]
  },
  {
   "cell_type": "code",
   "execution_count": 287,
   "metadata": {},
   "outputs": [
    {
     "ename": "ValueError",
     "evalue": "operands could not be broadcast together with shapes (2,3) (3,2) ",
     "output_type": "error",
     "traceback": [
      "\u001b[0;31m---------------------------------------------------------------------------\u001b[0m",
      "\u001b[0;31mValueError\u001b[0m                                Traceback (most recent call last)",
      "\u001b[0;32m<ipython-input-287-e9ee25e268b8>\u001b[0m in \u001b[0;36m<module>\u001b[0;34m\u001b[0m\n\u001b[0;32m----> 1\u001b[0;31m \u001b[0mA\u001b[0m\u001b[0;34m+\u001b[0m\u001b[0mC\u001b[0m\u001b[0;34m\u001b[0m\u001b[0;34m\u001b[0m\u001b[0m\n\u001b[0m",
      "\u001b[0;31mValueError\u001b[0m: operands could not be broadcast together with shapes (2,3) (3,2) "
     ]
    }
   ],
   "source": [
    "A+C"
   ]
  },
  {
   "cell_type": "code",
   "execution_count": 288,
   "metadata": {},
   "outputs": [],
   "source": [
    "dimensions = {\n",
    "    'A': A.shape,\n",
    "    'B': B.shape,\n",
    "    'C': C.shape,\n",
    "    'D': D.shape,\n",
    "    'u': u.shape,\n",
    "    'v': v.shape\n",
    "}"
   ]
  },
  {
   "cell_type": "code",
   "execution_count": 289,
   "metadata": {},
   "outputs": [
    {
     "name": "stdout",
     "output_type": "stream",
     "text": [
      "{'A': (2, 3), 'B': (2, 2), 'C': (3, 2), 'D': (2, 3), 'u': (4,), 'v': (4,)}\n"
     ]
    }
   ],
   "source": [
    "print(dimensions)"
   ]
  },
  {
   "cell_type": "code",
   "execution_count": 290,
   "metadata": {},
   "outputs": [],
   "source": [
    "alpha = 6\n",
    "\n",
    "u_plus_v = u+v            # u+v\n",
    "u_minus_v = u-v           # u-v\n",
    "alpha_times_u = alpha*u    # alpha * u, alpha = 6\n",
    "u_dot_v = np.dot(u,v)             # u . v\n",
    "norm_u =  np.linalg.norm(u)"
   ]
  },
  {
   "cell_type": "code",
   "execution_count": 291,
   "metadata": {},
   "outputs": [
    {
     "name": "stdout",
     "output_type": "stream",
     "text": [
      "[ 9  7 -4  9]\n"
     ]
    }
   ],
   "source": [
    "print(u_plus_v)"
   ]
  },
  {
   "cell_type": "code",
   "execution_count": 292,
   "metadata": {},
   "outputs": [
    {
     "name": "stdout",
     "output_type": "stream",
     "text": [
      "51\n"
     ]
    }
   ],
   "source": [
    "print(u_dot_v)"
   ]
  },
  {
   "cell_type": "code",
   "execution_count": null,
   "metadata": {},
   "outputs": [],
   "source": []
  }
 ],
 "metadata": {
  "kernelspec": {
   "display_name": "Python 3",
   "language": "python",
   "name": "python3"
  },
  "language_info": {
   "codemirror_mode": {
    "name": "ipython",
    "version": 3
   },
   "file_extension": ".py",
   "mimetype": "text/x-python",
   "name": "python",
   "nbconvert_exporter": "python",
   "pygments_lexer": "ipython3",
   "version": "3.7.5"
  }
 },
 "nbformat": 4,
 "nbformat_minor": 2
}
