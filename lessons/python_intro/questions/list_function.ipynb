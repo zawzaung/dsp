{
 "cells": [
  {
   "cell_type": "markdown",
   "metadata": {
    "ExecuteTime": {
     "end_time": "2019-02-04T15:52:09.287372Z",
     "start_time": "2019-02-04T15:52:09.283724Z"
    }
   },
   "source": [
    "### Description\n",
    "\n",
    "Main LO:\n",
    "- Write a function that requires use of a list\n",
    "\n",
    "Lesson LOs:\n",
    "- Use loop and enumerate to operate on sequential data\n",
    "- Write a python function\n",
    "- Document code effectively\n",
    "\n",
    "Additional learning objectives:\n",
    "- Operate on lists using sorted()\n",
    "- Use python string manipulation functions.\n",
    "\n",
    "Write a function called `find_first_names()` that takes in `students_input`, a list of a class roster like the one above and returns a list of the first names of students in `students_input`. If a first name appears twice in the roster, it should appear twice in what the function returns. \n",
    "\n",
    "The list of first names returned by `find_first_names()` should be sorted."
   ]
  },
  {
   "cell_type": "code",
   "execution_count": 1,
   "metadata": {
    "ExecuteTime": {
     "end_time": "2019-02-04T15:52:09.301450Z",
     "start_time": "2019-02-04T15:52:09.294019Z"
    }
   },
   "outputs": [],
   "source": [
    "### SOLUTION\n",
    "def find_first_names(students_input):\n",
    "    \"\"\"args:\n",
    "           students_input (list): a class roster\n",
    "       returns:\n",
    "           first_names (list): a list of the first names in the class roster. \n",
    "    \"\"\"\n",
    "    \n",
    "    return sorted([n.split()[0].capitalize() for n in students_input])"
   ]
  },
  {
   "cell_type": "code",
   "execution_count": 2,
   "metadata": {
    "ExecuteTime": {
     "end_time": "2019-02-04T15:52:09.315949Z",
     "start_time": "2019-02-04T15:52:09.307543Z"
    }
   },
   "outputs": [
    {
     "name": "stdout",
     "output_type": "stream",
     "text": [
      "['Ashley', 'Donald', 'Evan', 'Nicholas', 'Stephanie']\n"
     ]
    }
   ],
   "source": [
    "### TESTCASE SAMPLE\n",
    "print(\n",
    "    find_first_names([\n",
    "        'Nicholas Jones', 'Ashley Rowland', 'Stephanie Jackson',\n",
    "        'Donald Hicks', 'Evan Johnson'\n",
    "    ]))"
   ]
  },
  {
   "cell_type": "code",
   "execution_count": 3,
   "metadata": {
    "ExecuteTime": {
     "end_time": "2019-02-04T15:52:09.327801Z",
     "start_time": "2019-02-04T15:52:09.320094Z"
    }
   },
   "outputs": [
    {
     "name": "stdout",
     "output_type": "stream",
     "text": [
      "['Ashley', 'Ashley', 'Donald', 'Evan', 'Nicholas', 'Stephanie']\n"
     ]
    }
   ],
   "source": [
    "### TESTCASE\n",
    "print(\n",
    "    find_first_names([\n",
    "        'Nicholas Jones', 'Ashley Rowland', 'Stephanie Jackson',\n",
    "        'Donald Hicks', 'Evan Johnson', 'ashley Parker'\n",
    "    ]))"
   ]
  },
  {
   "cell_type": "code",
   "execution_count": 4,
   "metadata": {
    "ExecuteTime": {
     "end_time": "2019-02-04T15:52:09.344697Z",
     "start_time": "2019-02-04T15:52:09.331789Z"
    }
   },
   "outputs": [
    {
     "name": "stdout",
     "output_type": "stream",
     "text": [
      "['Alexandra', 'Angela', 'Brian', 'Brittany', 'Brittany', 'Cristina', 'Daniel', 'Drew', 'Erica', 'Heidi', 'Jill', 'Jimmy', 'John', 'Jonathan', 'Nathaniel', 'Rachel', 'Robert', 'Sandra', 'Sarah', 'Suzanne', 'Terri']\n"
     ]
    }
   ],
   "source": [
    "### TESTCASE\n",
    "print(\n",
    "    find_first_names([\n",
    "        'Brittany Johnson', 'Sarah Klein', 'Drew Thompson', 'Jimmy Parker',\n",
    "        'Jill Kelly', 'Heidi Howard', 'Jonathan Watkins', 'Terri Allen',\n",
    "        'Angela Reyes', 'Suzanne Roberts', 'daniel burgess MD',\n",
    "        'Cristina Daniels', 'Sandra Vargas', 'Rachel Weeks', 'Nathaniel Mills',\n",
    "        'Brittany Barnes', 'Brian Jennings', 'Alexandra Walker',\n",
    "        'Robert Berry', 'John Mann', 'Erica Russell'\n",
    "    ]))"
   ]
  },
  {
   "cell_type": "code",
   "execution_count": 5,
   "metadata": {
    "ExecuteTime": {
     "end_time": "2019-02-04T15:52:09.362678Z",
     "start_time": "2019-02-04T15:52:09.353255Z"
    }
   },
   "outputs": [
    {
     "name": "stdout",
     "output_type": "stream",
     "text": [
      "True\n"
     ]
    }
   ],
   "source": [
    "### TESTCASE SAMPLE\n",
    "# returns false if no docstring is provided\n",
    "print(bool(find_first_names.__doc__))"
   ]
  },
  {
   "cell_type": "code",
   "execution_count": 8,
   "metadata": {
    "ExecuteTime": {
     "end_time": "2019-02-04T15:52:09.397753Z",
     "start_time": "2019-02-04T15:52:09.367582Z"
    }
   },
   "outputs": [
    {
     "data": {
      "text/plain": [
       "True"
      ]
     },
     "execution_count": 8,
     "metadata": {},
     "output_type": "execute_result"
    }
   ],
   "source": [
    "### TESTCASE\n",
    "# returns false if input is not described in docstring\n",
    "print(bool('students_input' in find_first_names.__doc__))"
   ]
  },
  {
   "cell_type": "code",
   "execution_count": null,
   "metadata": {},
   "outputs": [],
   "source": []
  }
 ],
 "metadata": {
  "kernelspec": {
   "display_name": "Python 3",
   "language": "python",
   "name": "python3"
  },
  "language_info": {
   "codemirror_mode": {
    "name": "ipython",
    "version": 3
   },
   "file_extension": ".py",
   "mimetype": "text/x-python",
   "name": "python",
   "nbconvert_exporter": "python",
   "pygments_lexer": "ipython3",
   "version": "3.7.5"
  }
 },
 "nbformat": 4,
 "nbformat_minor": 2
}
