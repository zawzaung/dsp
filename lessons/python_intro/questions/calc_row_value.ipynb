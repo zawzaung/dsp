{
 "cells": [
  {
   "cell_type": "code",
   "execution_count": 1,
   "metadata": {
    "ExecuteTime": {
     "end_time": "2019-02-05T04:45:00.550623Z",
     "start_time": "2019-02-05T04:45:00.547063Z"
    }
   },
   "outputs": [],
   "source": [
    "import random"
   ]
  },
  {
   "cell_type": "code",
   "execution_count": 2,
   "metadata": {
    "ExecuteTime": {
     "end_time": "2019-02-05T04:45:00.564002Z",
     "start_time": "2019-02-05T04:45:00.557637Z"
    }
   },
   "outputs": [
    {
     "name": "stdout",
     "output_type": "stream",
     "text": [
      "6570849557\n",
      "7007611300\n",
      "5939103310\n",
      "2855767945\n",
      "7184781183\n",
      "1185619531\n",
      "6422165101\n",
      "7614225657\n",
      "0770829444\n",
      "6258909007\n"
     ]
    }
   ],
   "source": [
    "rows = []\n",
    "for i in range(10):\n",
    "    rows.append(\"\".join([str(random.randint(0,9)) for i in range(10)]))\n",
    "print(\"\\n\".join(rows))"
   ]
  },
  {
   "cell_type": "markdown",
   "metadata": {
    "ExecuteTime": {
     "end_time": "2019-02-04T15:52:09.287372Z",
     "start_time": "2019-02-04T15:52:09.283724Z"
    }
   },
   "source": [
    "### Description\n",
    "\n",
    "Main LO:\n",
    "- Use loop and enumerate to operate on sequential data\n",
    "\n",
    "Lesson LOs:\n",
    "- Write a python function\n",
    "- Document code effectively\n",
    "- How to handle errors using try-except or raise\n",
    "\n",
    "There's a special magic formula that assigns a numeric value to a row of digits like `6057`. It works as follows:\n",
    "- add the value of every odd digit multiplied by its position in the row\n",
    "- subtract the value of every even digit multiplied by 5\n",
    "    \n",
    "Using `6057` we would get a value of `6*1 - 0*5 + 5*3 - 7*5 = -14` because six is the first digit (odd), zero is the second digit (even), five is the third digit (odd) and seven is the fourth digit (even).\n",
    "\n",
    "Write a function called `calc_row_value()` that calculates the value of a row of numbers. It should take one argument, `input_string` that is a string.\n",
    "\n",
    "In addition, the function you write should meet the following:\n",
    "- It should make use of the `enumerate()` function.\n",
    "- It should raise a ValueError when the input is not a string.\n",
    "\n",
    "```python\n",
    ">>> calc_row_value('6057')\n",
    "-14\n",
    ">>> calc_row_value('12345')\n",
    "5\n",
    "```\n"
   ]
  },
  {
   "cell_type": "code",
   "execution_count": 3,
   "metadata": {
    "ExecuteTime": {
     "end_time": "2019-02-05T04:45:00.726874Z",
     "start_time": "2019-02-05T04:45:00.699957Z"
    }
   },
   "outputs": [],
   "source": [
    "### SOLUTION\n",
    "def calc_row_value(input_string):\n",
    "    \"\"\"args:\n",
    "           input_string (str): an input string\n",
    "       returns:\n",
    "           letter_prod (int): the fancy row value.\n",
    "    \"\"\"\n",
    "    \n",
    "    if type(input_string) != type(\"foo\"):\n",
    "        raise ValueError(\"input_string must be a string! 🙈\")\n",
    "    \n",
    "    value = 0\n",
    "    \n",
    "    input_nums = [int(c) for c in input_string if c.isdecimal()]\n",
    "    \n",
    "    for i,n in enumerate(input_nums):\n",
    "        index = i+1\n",
    "        \n",
    "        if index % 2 == 0:\n",
    "            value -= n*5\n",
    "        else:\n",
    "            value += n*index\n",
    "    \n",
    "    return value"
   ]
  },
  {
   "cell_type": "code",
   "execution_count": 4,
   "metadata": {
    "ExecuteTime": {
     "end_time": "2019-02-05T04:45:00.751912Z",
     "start_time": "2019-02-05T04:45:00.731855Z"
    }
   },
   "outputs": [
    {
     "data": {
      "text/plain": [
       "-14"
      ]
     },
     "execution_count": 4,
     "metadata": {},
     "output_type": "execute_result"
    }
   ],
   "source": [
    "### Testcase sample\n",
    "print(calc_row_value('6057'))"
   ]
  },
  {
   "cell_type": "code",
   "execution_count": 5,
   "metadata": {
    "ExecuteTime": {
     "end_time": "2019-02-05T04:45:00.767333Z",
     "start_time": "2019-02-05T04:45:00.755397Z"
    }
   },
   "outputs": [
    {
     "data": {
      "text/plain": [
       "5"
      ]
     },
     "execution_count": 5,
     "metadata": {},
     "output_type": "execute_result"
    }
   ],
   "source": [
    "### Testcase sample\n",
    "print(calc_row_value('12345'))"
   ]
  },
  {
   "cell_type": "code",
   "execution_count": 6,
   "metadata": {
    "ExecuteTime": {
     "end_time": "2019-02-05T04:45:00.786836Z",
     "start_time": "2019-02-05T04:45:00.773365Z"
    }
   },
   "outputs": [
    {
     "data": {
      "text/plain": [
       "53"
      ]
     },
     "execution_count": 6,
     "metadata": {},
     "output_type": "execute_result"
    }
   ],
   "source": [
    "### Testcase\n",
    "print(calc_row_value('6149219982'))"
   ]
  },
  {
   "cell_type": "code",
   "execution_count": 7,
   "metadata": {
    "ExecuteTime": {
     "end_time": "2019-02-05T04:45:00.798370Z",
     "start_time": "2019-02-05T04:45:00.791388Z"
    }
   },
   "outputs": [
    {
     "data": {
      "text/plain": [
       "9"
      ]
     },
     "execution_count": 7,
     "metadata": {},
     "output_type": "execute_result"
    }
   ],
   "source": [
    "### Testcase\n",
    "print(calc_row_value('7154226105 '))"
   ]
  },
  {
   "cell_type": "code",
   "execution_count": 8,
   "metadata": {
    "ExecuteTime": {
     "end_time": "2019-02-05T04:45:00.808412Z",
     "start_time": "2019-02-05T04:45:00.801477Z"
    }
   },
   "outputs": [
    {
     "name": "stdout",
     "output_type": "stream",
     "text": [
      "True\n"
     ]
    }
   ],
   "source": [
    "### Testcase sample\n",
    "try:\n",
    "    calc_row_value(['12345'])\n",
    "except ValueError:\n",
    "    print(True)"
   ]
  },
  {
   "cell_type": "code",
   "execution_count": 9,
   "metadata": {
    "ExecuteTime": {
     "end_time": "2019-02-05T04:45:00.823357Z",
     "start_time": "2019-02-05T04:45:00.813521Z"
    }
   },
   "outputs": [
    {
     "name": "stdout",
     "output_type": "stream",
     "text": [
      "True\n"
     ]
    }
   ],
   "source": [
    "### Testcase\n",
    "import inspect\n",
    "print(\"enumerate\" in inspect.getsource(calc_row_value))"
   ]
  },
  {
   "cell_type": "code",
   "execution_count": null,
   "metadata": {},
   "outputs": [],
   "source": []
  }
 ],
 "metadata": {
  "kernelspec": {
   "display_name": "Python 3",
   "language": "python",
   "name": "python3"
  },
  "language_info": {
   "codemirror_mode": {
    "name": "ipython",
    "version": 3
   },
   "file_extension": ".py",
   "mimetype": "text/x-python",
   "name": "python",
   "nbconvert_exporter": "python",
   "pygments_lexer": "ipython3",
   "version": "3.7.5"
  }
 },
 "nbformat": 4,
 "nbformat_minor": 2
}
